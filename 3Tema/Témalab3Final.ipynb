{
 "cells": [
  {
   "cell_type": "markdown",
   "metadata": {},
   "source": [
    "## Guidence for the data"
   ]
  },
  {
   "cell_type": "markdown",
   "metadata": {},
   "source": [
    "    Breed: The name of the dog breed.\n",
    "    type: The category or group the breed belongs to, such as terrier, sporting, working, or non-sporting.\n",
    "    score: A subjective score assigned to the breed based on an unspecified rating system.\n",
    "    popularity ranking: The popularity rank of the breed.\n",
    "    size: The size category of the breed, typically measured on a scale (1 for small, 2 for medium, etc.).\n",
    "    intelligence: The intelligence level of the breed, categorized as Brightest, Above average, Excellent, Average, etc.\n",
    "    congenital ailments: Common genetic health issues associated with the breed.\n",
    "    score for kids: A rating indicating how suitable the breed is for families with children. Higher scores suggest greater suitability. Intelligence + longevity + ailments + cost scores (50% each) + 100% grooming score. highest possible score: 5\n",
    "    $LIFETIME COST: The estimated lifetime cost of owning the breed, expressed in dollars.\n",
    "    INTELLIGENCE RANK: The intelligence rank of the breed\n",
    "    INTELLIGENCE %: The intelligence level of the breed, expressed as a percentage.\n",
    "    LONGEVITY (YEARS): The average lifespan of the breed, expressed in years.\n",
    "    NUMBER OF GENETIC AILMENTS: The number of common genetic health issues the breed is prone to.\n",
    "    GENETIC AILMENTS: The specific genetic health issues associated with the breed.\n",
    "    PURCHASE PRICE: The average purchase price of the breed, expressed in US dollars.\n",
    "    FOOD COSTS PER YEAR: The estimated annual cost of feeding the breed.\n",
    "    GROOMING FREQUENCY: How often the breed requires grooming, typically measured in frequency (daily, once a week, once in a few weeks).\n",
    "    SUITABILITY FOR CHILDREN: The suitability of the breed for families with children, typically measured on a scale (1 = high suitability, 2= medium suitability, 3= low suitability)."
   ]
  },
  {
   "cell_type": "markdown",
   "metadata": {},
   "source": [
    "## Packeges"
   ]
  },
  {
   "cell_type": "markdown",
   "metadata": {},
   "source": [
    "### A csomagok feladata:\n",
    "<ul>\n",
    "    <li>ggplot a ábrákhoz,diagramokhoz</li>\n",
    "    <li>corrplot a korrelációk kereséséhez</li>\n",
    "    <li>shiny egy interaktív adatelemzőt tesz lehetővé</li>\n",
    "    <li>gridExtra a ggplotok egymásmellé rakásához</li>\n",
    "</ul>"
   ]
  },
  {
   "cell_type": "code",
   "execution_count": 71,
   "metadata": {
    "id": "_-PPA9wEdRXw",
    "vscode": {
     "languageId": "r"
    }
   },
   "outputs": [
    {
     "name": "stderr",
     "output_type": "stream",
     "text": [
      "Warning message:\n",
      "\"packages 'ggplot2', 'dplyr', 'shiny', 'corrplot', 'gridExtra' are in use and will not be installed\"\n"
     ]
    }
   ],
   "source": [
    "install.packages(c(\"ggplot2\", \"dplyr\", \"shiny\", \"corrplot\", \"gridExtra\"))"
   ]
  },
  {
   "cell_type": "code",
   "execution_count": 72,
   "metadata": {
    "id": "RT1xUY-n6hXb",
    "vscode": {
     "languageId": "r"
    }
   },
   "outputs": [],
   "source": [
    "library(ggplot2)\n",
    "library(dplyr)\n",
    "library(shiny)\n",
    "library(corrplot)\n",
    "library(gridExtra)"
   ]
  },
  {
   "cell_type": "markdown",
   "metadata": {},
   "source": [
    "## Data loading"
   ]
  },
  {
   "cell_type": "code",
   "execution_count": 73,
   "metadata": {
    "id": "eD0rkGXkFsM7",
    "vscode": {
     "languageId": "r"
    }
   },
   "outputs": [],
   "source": [
    "dogData <- read.csv(\"dogs-ranking-dataset.csv\")"
   ]
  },
  {
   "cell_type": "code",
   "execution_count": 74,
   "metadata": {
    "colab": {
     "base_uri": "https://localhost:8080/",
     "height": 445
    },
    "id": "nImzjmnZGrcR",
    "outputId": "6c58e220-c9c4-450c-e48e-490ce26cc856",
    "vscode": {
     "languageId": "r"
    }
   },
   "outputs": [
    {
     "data": {
      "text/html": [
       "<table class=\"dataframe\">\n",
       "<caption>A data.frame: 6 × 19</caption>\n",
       "<thead>\n",
       "\t<tr><th></th><th scope=col>Breed</th><th scope=col>type</th><th scope=col>score</th><th scope=col>popularity.ranking</th><th scope=col>size</th><th scope=col>intelligence</th><th scope=col>congential.ailments</th><th scope=col>score.for.kids</th><th scope=col>size.1</th><th scope=col>X.LIFETIME.COST</th><th scope=col>INTELLIGENCE.RANK</th><th scope=col>INTELLIGENCE..</th><th scope=col>LONGEVITY.YEARS.</th><th scope=col>NUMBER.OF.GENETIC.AILMENTS</th><th scope=col>GENETIC.AILMENTS</th><th scope=col>PURCHASE.PRICE</th><th scope=col>FOOD.COSTS.PER.YEAR</th><th scope=col>GROOMING.FREQUNCY</th><th scope=col>SUITABILITY.FOR.CHILDREN</th></tr>\n",
       "\t<tr><th></th><th scope=col>&lt;chr&gt;</th><th scope=col>&lt;chr&gt;</th><th scope=col>&lt;dbl&gt;</th><th scope=col>&lt;int&gt;</th><th scope=col>&lt;int&gt;</th><th scope=col>&lt;chr&gt;</th><th scope=col>&lt;chr&gt;</th><th scope=col>&lt;dbl&gt;</th><th scope=col>&lt;chr&gt;</th><th scope=col>&lt;chr&gt;</th><th scope=col>&lt;int&gt;</th><th scope=col>&lt;chr&gt;</th><th scope=col>&lt;dbl&gt;</th><th scope=col>&lt;int&gt;</th><th scope=col>&lt;chr&gt;</th><th scope=col>&lt;chr&gt;</th><th scope=col>&lt;chr&gt;</th><th scope=col>&lt;chr&gt;</th><th scope=col>&lt;int&gt;</th></tr>\n",
       "</thead>\n",
       "<tbody>\n",
       "\t<tr><th scope=row>1</th><td>Border Terrier        </td><td>terrier </td><td>3.61</td><td>61</td><td>1</td><td>Above average</td><td>none                        </td><td>4.99</td><td>small </td><td>$22,638 </td><td>30</td><td>70%</td><td>14.00</td><td>0</td><td>none                        </td><td>$833 </td><td>$324 </td><td>Once a week        </td><td>1</td></tr>\n",
       "\t<tr><th scope=row>2</th><td>Cairn Terrier         </td><td>terrier </td><td>3.53</td><td>48</td><td>1</td><td>Above average</td><td>'lion jaw', heart problems  </td><td>4.91</td><td>small </td><td>$21,992 </td><td>35</td><td>61%</td><td>13.84</td><td>2</td><td>'lion jaw', heart problems  </td><td>$435 </td><td>$324 </td><td>Once a week        </td><td>1</td></tr>\n",
       "\t<tr><th scope=row>3</th><td>Siberian Husky        </td><td>working </td><td>3.22</td><td>16</td><td>2</td><td>Average      </td><td>none                        </td><td>4.72</td><td>medium</td><td>$22,049 </td><td>45</td><td>45%</td><td>12.58</td><td>0</td><td>none                        </td><td>$650 </td><td>$466 </td><td>Once in a few weeks</td><td>1</td></tr>\n",
       "\t<tr><th scope=row>4</th><td>Welsh Springer Spaniel</td><td>sporting</td><td>3.34</td><td>81</td><td>2</td><td>Above average</td><td>hip problems                </td><td>4.71</td><td>medium</td><td>$20,224 </td><td>31</td><td>69%</td><td>12.49</td><td>1</td><td>hip problems                </td><td>$750 </td><td>$324 </td><td>Once a week        </td><td>1</td></tr>\n",
       "\t<tr><th scope=row>5</th><td>English Cocker Spaniel</td><td>sporting</td><td>3.33</td><td>51</td><td>2</td><td>Excellent    </td><td>none                        </td><td>4.70</td><td>medium</td><td>$18,993 </td><td>18</td><td>82%</td><td>11.66</td><td>0</td><td>none                        </td><td>$800 </td><td>$324 </td><td>Once a week        </td><td>1</td></tr>\n",
       "\t<tr><th scope=row>6</th><td>Cocker Spaniel        </td><td>sporting</td><td>3.30</td><td>27</td><td>1</td><td>Excellent    </td><td>eye, skin problems          </td><td>4.67</td><td>small </td><td>$24,330 </td><td>20</td><td>79%</td><td>12.50</td><td>2</td><td>eye, skin problems          </td><td>$465 </td><td>$674 </td><td>Once a week        </td><td>1</td></tr>\n",
       "</tbody>\n",
       "</table>\n"
      ],
      "text/latex": [
       "A data.frame: 6 × 19\n",
       "\\begin{tabular}{r|lllllllllllllllllll}\n",
       "  & Breed & type & score & popularity.ranking & size & intelligence & congential.ailments & score.for.kids & size.1 & X.LIFETIME.COST & INTELLIGENCE.RANK & INTELLIGENCE.. & LONGEVITY.YEARS. & NUMBER.OF.GENETIC.AILMENTS & GENETIC.AILMENTS & PURCHASE.PRICE & FOOD.COSTS.PER.YEAR & GROOMING.FREQUNCY & SUITABILITY.FOR.CHILDREN\\\\\n",
       "  & <chr> & <chr> & <dbl> & <int> & <int> & <chr> & <chr> & <dbl> & <chr> & <chr> & <int> & <chr> & <dbl> & <int> & <chr> & <chr> & <chr> & <chr> & <int>\\\\\n",
       "\\hline\n",
       "\t1 & Border Terrier         & terrier  & 3.61 & 61 & 1 & Above average & none                         & 4.99 & small  & \\$22,638  & 30 & 70\\% & 14.00 & 0 & none                         & \\$833  & \\$324  & Once a week         & 1\\\\\n",
       "\t2 & Cairn Terrier          & terrier  & 3.53 & 48 & 1 & Above average & 'lion jaw', heart problems   & 4.91 & small  & \\$21,992  & 35 & 61\\% & 13.84 & 2 & 'lion jaw', heart problems   & \\$435  & \\$324  & Once a week         & 1\\\\\n",
       "\t3 & Siberian Husky         & working  & 3.22 & 16 & 2 & Average       & none                         & 4.72 & medium & \\$22,049  & 45 & 45\\% & 12.58 & 0 & none                         & \\$650  & \\$466  & Once in a few weeks & 1\\\\\n",
       "\t4 & Welsh Springer Spaniel & sporting & 3.34 & 81 & 2 & Above average & hip problems                 & 4.71 & medium & \\$20,224  & 31 & 69\\% & 12.49 & 1 & hip problems                 & \\$750  & \\$324  & Once a week         & 1\\\\\n",
       "\t5 & English Cocker Spaniel & sporting & 3.33 & 51 & 2 & Excellent     & none                         & 4.70 & medium & \\$18,993  & 18 & 82\\% & 11.66 & 0 & none                         & \\$800  & \\$324  & Once a week         & 1\\\\\n",
       "\t6 & Cocker Spaniel         & sporting & 3.30 & 27 & 1 & Excellent     & eye, skin problems           & 4.67 & small  & \\$24,330  & 20 & 79\\% & 12.50 & 2 & eye, skin problems           & \\$465  & \\$674  & Once a week         & 1\\\\\n",
       "\\end{tabular}\n"
      ],
      "text/markdown": [
       "\n",
       "A data.frame: 6 × 19\n",
       "\n",
       "| <!--/--> | Breed &lt;chr&gt; | type &lt;chr&gt; | score &lt;dbl&gt; | popularity.ranking &lt;int&gt; | size &lt;int&gt; | intelligence &lt;chr&gt; | congential.ailments &lt;chr&gt; | score.for.kids &lt;dbl&gt; | size.1 &lt;chr&gt; | X.LIFETIME.COST &lt;chr&gt; | INTELLIGENCE.RANK &lt;int&gt; | INTELLIGENCE.. &lt;chr&gt; | LONGEVITY.YEARS. &lt;dbl&gt; | NUMBER.OF.GENETIC.AILMENTS &lt;int&gt; | GENETIC.AILMENTS &lt;chr&gt; | PURCHASE.PRICE &lt;chr&gt; | FOOD.COSTS.PER.YEAR &lt;chr&gt; | GROOMING.FREQUNCY &lt;chr&gt; | SUITABILITY.FOR.CHILDREN &lt;int&gt; |\n",
       "|---|---|---|---|---|---|---|---|---|---|---|---|---|---|---|---|---|---|---|---|\n",
       "| 1 | Border Terrier         | terrier  | 3.61 | 61 | 1 | Above average | none                         | 4.99 | small  | $22,638  | 30 | 70% | 14.00 | 0 | none                         | $833  | $324  | Once a week         | 1 |\n",
       "| 2 | Cairn Terrier          | terrier  | 3.53 | 48 | 1 | Above average | 'lion jaw', heart problems   | 4.91 | small  | $21,992  | 35 | 61% | 13.84 | 2 | 'lion jaw', heart problems   | $435  | $324  | Once a week         | 1 |\n",
       "| 3 | Siberian Husky         | working  | 3.22 | 16 | 2 | Average       | none                         | 4.72 | medium | $22,049  | 45 | 45% | 12.58 | 0 | none                         | $650  | $466  | Once in a few weeks | 1 |\n",
       "| 4 | Welsh Springer Spaniel | sporting | 3.34 | 81 | 2 | Above average | hip problems                 | 4.71 | medium | $20,224  | 31 | 69% | 12.49 | 1 | hip problems                 | $750  | $324  | Once a week         | 1 |\n",
       "| 5 | English Cocker Spaniel | sporting | 3.33 | 51 | 2 | Excellent     | none                         | 4.70 | medium | $18,993  | 18 | 82% | 11.66 | 0 | none                         | $800  | $324  | Once a week         | 1 |\n",
       "| 6 | Cocker Spaniel         | sporting | 3.30 | 27 | 1 | Excellent     | eye, skin problems           | 4.67 | small  | $24,330  | 20 | 79% | 12.50 | 2 | eye, skin problems           | $465  | $674  | Once a week         | 1 |\n",
       "\n"
      ],
      "text/plain": [
       "  Breed                  type     score popularity.ranking size intelligence \n",
       "1 Border Terrier         terrier  3.61  61                 1    Above average\n",
       "2 Cairn Terrier          terrier  3.53  48                 1    Above average\n",
       "3 Siberian Husky         working  3.22  16                 2    Average      \n",
       "4 Welsh Springer Spaniel sporting 3.34  81                 2    Above average\n",
       "5 English Cocker Spaniel sporting 3.33  51                 2    Excellent    \n",
       "6 Cocker Spaniel         sporting 3.30  27                 1    Excellent    \n",
       "  congential.ailments          score.for.kids size.1 X.LIFETIME.COST\n",
       "1 none                         4.99           small  $22,638        \n",
       "2 'lion jaw', heart problems   4.91           small  $21,992        \n",
       "3 none                         4.72           medium $22,049        \n",
       "4 hip problems                 4.71           medium $20,224        \n",
       "5 none                         4.70           medium $18,993        \n",
       "6 eye, skin problems           4.67           small  $24,330        \n",
       "  INTELLIGENCE.RANK INTELLIGENCE.. LONGEVITY.YEARS. NUMBER.OF.GENETIC.AILMENTS\n",
       "1 30                70%            14.00            0                         \n",
       "2 35                61%            13.84            2                         \n",
       "3 45                45%            12.58            0                         \n",
       "4 31                69%            12.49            1                         \n",
       "5 18                82%            11.66            0                         \n",
       "6 20                79%            12.50            2                         \n",
       "  GENETIC.AILMENTS             PURCHASE.PRICE FOOD.COSTS.PER.YEAR\n",
       "1 none                         $833           $324               \n",
       "2 'lion jaw', heart problems   $435           $324               \n",
       "3 none                         $650           $466               \n",
       "4 hip problems                 $750           $324               \n",
       "5 none                         $800           $324               \n",
       "6 eye, skin problems           $465           $674               \n",
       "  GROOMING.FREQUNCY   SUITABILITY.FOR.CHILDREN\n",
       "1 Once a week         1                       \n",
       "2 Once a week         1                       \n",
       "3 Once in a few weeks 1                       \n",
       "4 Once a week         1                       \n",
       "5 Once a week         1                       \n",
       "6 Once a week         1                       "
      ]
     },
     "metadata": {},
     "output_type": "display_data"
    }
   ],
   "source": [
    "head(dogData)"
   ]
  },
  {
   "cell_type": "markdown",
   "metadata": {
    "id": "Bg4WEugAWPAB"
   },
   "source": [
    "## Data prep"
   ]
  },
  {
   "cell_type": "markdown",
   "metadata": {},
   "source": [
    "Itt átalakítok amit csak tudok számszerűvé, és elhagyom a fölösleges oszlopokat."
   ]
  },
  {
   "cell_type": "code",
   "execution_count": 75,
   "metadata": {
    "id": "uiiwenGHGsh3",
    "vscode": {
     "languageId": "r"
    }
   },
   "outputs": [],
   "source": [
    "dogData$INTELLIGENCE.. <- gsub(\"%\",\"\",dogData$INTELLIGENCE..)"
   ]
  },
  {
   "cell_type": "code",
   "execution_count": 76,
   "metadata": {
    "id": "sspoxnnUImRc",
    "vscode": {
     "languageId": "r"
    }
   },
   "outputs": [],
   "source": [
    "dogData$INTELLIGENCE.. <- as.double(dogData$INTELLIGENCE..)"
   ]
  },
  {
   "cell_type": "code",
   "execution_count": 77,
   "metadata": {
    "id": "nGDDpkO2I8de",
    "vscode": {
     "languageId": "r"
    }
   },
   "outputs": [],
   "source": [
    "dogData$INTELLIGENCE.. <- dogData$INTELLIGENCE.. / 100"
   ]
  },
  {
   "cell_type": "code",
   "execution_count": 78,
   "metadata": {
    "id": "MkthUMsQKgnZ",
    "vscode": {
     "languageId": "r"
    }
   },
   "outputs": [],
   "source": [
    "dogData$X.LIFETIME.COST <- as.integer(gsub( \",\", \"\", gsub(\"\\\\$\", \"\", dogData$X.LIFETIME.COST)))"
   ]
  },
  {
   "cell_type": "code",
   "execution_count": 79,
   "metadata": {
    "id": "83pc-RecI6Ga",
    "vscode": {
     "languageId": "r"
    }
   },
   "outputs": [],
   "source": [
    "dogData$PURCHASE.PRICE <- as.integer(gsub( \",\", \"\", gsub(\"\\\\$\", \"\", dogData$PURCHASE.PRICE)))"
   ]
  },
  {
   "cell_type": "code",
   "execution_count": 80,
   "metadata": {
    "id": "_bGIYXw2MRnZ",
    "vscode": {
     "languageId": "r"
    }
   },
   "outputs": [],
   "source": [
    "dogData$FOOD.COSTS.PER.YEAR <- as.integer(gsub( \",\", \"\", gsub(\"\\\\$\", \"\", dogData$FOOD.COSTS.PER.YEAR)))"
   ]
  },
  {
   "cell_type": "code",
   "execution_count": 81,
   "metadata": {
    "colab": {
     "base_uri": "https://localhost:8080/",
     "height": 445
    },
    "id": "kXdNS_IgIlDY",
    "outputId": "e0d40826-11d9-474a-effc-a4ef38deed3d",
    "vscode": {
     "languageId": "r"
    }
   },
   "outputs": [
    {
     "data": {
      "text/html": [
       "<table class=\"dataframe\">\n",
       "<caption>A data.frame: 6 × 19</caption>\n",
       "<thead>\n",
       "\t<tr><th></th><th scope=col>Breed</th><th scope=col>type</th><th scope=col>score</th><th scope=col>popularity.ranking</th><th scope=col>size</th><th scope=col>intelligence</th><th scope=col>congential.ailments</th><th scope=col>score.for.kids</th><th scope=col>size.1</th><th scope=col>X.LIFETIME.COST</th><th scope=col>INTELLIGENCE.RANK</th><th scope=col>INTELLIGENCE..</th><th scope=col>LONGEVITY.YEARS.</th><th scope=col>NUMBER.OF.GENETIC.AILMENTS</th><th scope=col>GENETIC.AILMENTS</th><th scope=col>PURCHASE.PRICE</th><th scope=col>FOOD.COSTS.PER.YEAR</th><th scope=col>GROOMING.FREQUNCY</th><th scope=col>SUITABILITY.FOR.CHILDREN</th></tr>\n",
       "\t<tr><th></th><th scope=col>&lt;chr&gt;</th><th scope=col>&lt;chr&gt;</th><th scope=col>&lt;dbl&gt;</th><th scope=col>&lt;int&gt;</th><th scope=col>&lt;int&gt;</th><th scope=col>&lt;chr&gt;</th><th scope=col>&lt;chr&gt;</th><th scope=col>&lt;dbl&gt;</th><th scope=col>&lt;chr&gt;</th><th scope=col>&lt;int&gt;</th><th scope=col>&lt;int&gt;</th><th scope=col>&lt;dbl&gt;</th><th scope=col>&lt;dbl&gt;</th><th scope=col>&lt;int&gt;</th><th scope=col>&lt;chr&gt;</th><th scope=col>&lt;int&gt;</th><th scope=col>&lt;int&gt;</th><th scope=col>&lt;chr&gt;</th><th scope=col>&lt;int&gt;</th></tr>\n",
       "</thead>\n",
       "<tbody>\n",
       "\t<tr><th scope=row>1</th><td>Border Terrier        </td><td>terrier </td><td>3.61</td><td>61</td><td>1</td><td>Above average</td><td>none                        </td><td>4.99</td><td>small </td><td>22638</td><td>30</td><td>0.70</td><td>14.00</td><td>0</td><td>none                        </td><td>833</td><td>324</td><td>Once a week        </td><td>1</td></tr>\n",
       "\t<tr><th scope=row>2</th><td>Cairn Terrier         </td><td>terrier </td><td>3.53</td><td>48</td><td>1</td><td>Above average</td><td>'lion jaw', heart problems  </td><td>4.91</td><td>small </td><td>21992</td><td>35</td><td>0.61</td><td>13.84</td><td>2</td><td>'lion jaw', heart problems  </td><td>435</td><td>324</td><td>Once a week        </td><td>1</td></tr>\n",
       "\t<tr><th scope=row>3</th><td>Siberian Husky        </td><td>working </td><td>3.22</td><td>16</td><td>2</td><td>Average      </td><td>none                        </td><td>4.72</td><td>medium</td><td>22049</td><td>45</td><td>0.45</td><td>12.58</td><td>0</td><td>none                        </td><td>650</td><td>466</td><td>Once in a few weeks</td><td>1</td></tr>\n",
       "\t<tr><th scope=row>4</th><td>Welsh Springer Spaniel</td><td>sporting</td><td>3.34</td><td>81</td><td>2</td><td>Above average</td><td>hip problems                </td><td>4.71</td><td>medium</td><td>20224</td><td>31</td><td>0.69</td><td>12.49</td><td>1</td><td>hip problems                </td><td>750</td><td>324</td><td>Once a week        </td><td>1</td></tr>\n",
       "\t<tr><th scope=row>5</th><td>English Cocker Spaniel</td><td>sporting</td><td>3.33</td><td>51</td><td>2</td><td>Excellent    </td><td>none                        </td><td>4.70</td><td>medium</td><td>18993</td><td>18</td><td>0.82</td><td>11.66</td><td>0</td><td>none                        </td><td>800</td><td>324</td><td>Once a week        </td><td>1</td></tr>\n",
       "\t<tr><th scope=row>6</th><td>Cocker Spaniel        </td><td>sporting</td><td>3.30</td><td>27</td><td>1</td><td>Excellent    </td><td>eye, skin problems          </td><td>4.67</td><td>small </td><td>24330</td><td>20</td><td>0.79</td><td>12.50</td><td>2</td><td>eye, skin problems          </td><td>465</td><td>674</td><td>Once a week        </td><td>1</td></tr>\n",
       "</tbody>\n",
       "</table>\n"
      ],
      "text/latex": [
       "A data.frame: 6 × 19\n",
       "\\begin{tabular}{r|lllllllllllllllllll}\n",
       "  & Breed & type & score & popularity.ranking & size & intelligence & congential.ailments & score.for.kids & size.1 & X.LIFETIME.COST & INTELLIGENCE.RANK & INTELLIGENCE.. & LONGEVITY.YEARS. & NUMBER.OF.GENETIC.AILMENTS & GENETIC.AILMENTS & PURCHASE.PRICE & FOOD.COSTS.PER.YEAR & GROOMING.FREQUNCY & SUITABILITY.FOR.CHILDREN\\\\\n",
       "  & <chr> & <chr> & <dbl> & <int> & <int> & <chr> & <chr> & <dbl> & <chr> & <int> & <int> & <dbl> & <dbl> & <int> & <chr> & <int> & <int> & <chr> & <int>\\\\\n",
       "\\hline\n",
       "\t1 & Border Terrier         & terrier  & 3.61 & 61 & 1 & Above average & none                         & 4.99 & small  & 22638 & 30 & 0.70 & 14.00 & 0 & none                         & 833 & 324 & Once a week         & 1\\\\\n",
       "\t2 & Cairn Terrier          & terrier  & 3.53 & 48 & 1 & Above average & 'lion jaw', heart problems   & 4.91 & small  & 21992 & 35 & 0.61 & 13.84 & 2 & 'lion jaw', heart problems   & 435 & 324 & Once a week         & 1\\\\\n",
       "\t3 & Siberian Husky         & working  & 3.22 & 16 & 2 & Average       & none                         & 4.72 & medium & 22049 & 45 & 0.45 & 12.58 & 0 & none                         & 650 & 466 & Once in a few weeks & 1\\\\\n",
       "\t4 & Welsh Springer Spaniel & sporting & 3.34 & 81 & 2 & Above average & hip problems                 & 4.71 & medium & 20224 & 31 & 0.69 & 12.49 & 1 & hip problems                 & 750 & 324 & Once a week         & 1\\\\\n",
       "\t5 & English Cocker Spaniel & sporting & 3.33 & 51 & 2 & Excellent     & none                         & 4.70 & medium & 18993 & 18 & 0.82 & 11.66 & 0 & none                         & 800 & 324 & Once a week         & 1\\\\\n",
       "\t6 & Cocker Spaniel         & sporting & 3.30 & 27 & 1 & Excellent     & eye, skin problems           & 4.67 & small  & 24330 & 20 & 0.79 & 12.50 & 2 & eye, skin problems           & 465 & 674 & Once a week         & 1\\\\\n",
       "\\end{tabular}\n"
      ],
      "text/markdown": [
       "\n",
       "A data.frame: 6 × 19\n",
       "\n",
       "| <!--/--> | Breed &lt;chr&gt; | type &lt;chr&gt; | score &lt;dbl&gt; | popularity.ranking &lt;int&gt; | size &lt;int&gt; | intelligence &lt;chr&gt; | congential.ailments &lt;chr&gt; | score.for.kids &lt;dbl&gt; | size.1 &lt;chr&gt; | X.LIFETIME.COST &lt;int&gt; | INTELLIGENCE.RANK &lt;int&gt; | INTELLIGENCE.. &lt;dbl&gt; | LONGEVITY.YEARS. &lt;dbl&gt; | NUMBER.OF.GENETIC.AILMENTS &lt;int&gt; | GENETIC.AILMENTS &lt;chr&gt; | PURCHASE.PRICE &lt;int&gt; | FOOD.COSTS.PER.YEAR &lt;int&gt; | GROOMING.FREQUNCY &lt;chr&gt; | SUITABILITY.FOR.CHILDREN &lt;int&gt; |\n",
       "|---|---|---|---|---|---|---|---|---|---|---|---|---|---|---|---|---|---|---|---|\n",
       "| 1 | Border Terrier         | terrier  | 3.61 | 61 | 1 | Above average | none                         | 4.99 | small  | 22638 | 30 | 0.70 | 14.00 | 0 | none                         | 833 | 324 | Once a week         | 1 |\n",
       "| 2 | Cairn Terrier          | terrier  | 3.53 | 48 | 1 | Above average | 'lion jaw', heart problems   | 4.91 | small  | 21992 | 35 | 0.61 | 13.84 | 2 | 'lion jaw', heart problems   | 435 | 324 | Once a week         | 1 |\n",
       "| 3 | Siberian Husky         | working  | 3.22 | 16 | 2 | Average       | none                         | 4.72 | medium | 22049 | 45 | 0.45 | 12.58 | 0 | none                         | 650 | 466 | Once in a few weeks | 1 |\n",
       "| 4 | Welsh Springer Spaniel | sporting | 3.34 | 81 | 2 | Above average | hip problems                 | 4.71 | medium | 20224 | 31 | 0.69 | 12.49 | 1 | hip problems                 | 750 | 324 | Once a week         | 1 |\n",
       "| 5 | English Cocker Spaniel | sporting | 3.33 | 51 | 2 | Excellent     | none                         | 4.70 | medium | 18993 | 18 | 0.82 | 11.66 | 0 | none                         | 800 | 324 | Once a week         | 1 |\n",
       "| 6 | Cocker Spaniel         | sporting | 3.30 | 27 | 1 | Excellent     | eye, skin problems           | 4.67 | small  | 24330 | 20 | 0.79 | 12.50 | 2 | eye, skin problems           | 465 | 674 | Once a week         | 1 |\n",
       "\n"
      ],
      "text/plain": [
       "  Breed                  type     score popularity.ranking size intelligence \n",
       "1 Border Terrier         terrier  3.61  61                 1    Above average\n",
       "2 Cairn Terrier          terrier  3.53  48                 1    Above average\n",
       "3 Siberian Husky         working  3.22  16                 2    Average      \n",
       "4 Welsh Springer Spaniel sporting 3.34  81                 2    Above average\n",
       "5 English Cocker Spaniel sporting 3.33  51                 2    Excellent    \n",
       "6 Cocker Spaniel         sporting 3.30  27                 1    Excellent    \n",
       "  congential.ailments          score.for.kids size.1 X.LIFETIME.COST\n",
       "1 none                         4.99           small  22638          \n",
       "2 'lion jaw', heart problems   4.91           small  21992          \n",
       "3 none                         4.72           medium 22049          \n",
       "4 hip problems                 4.71           medium 20224          \n",
       "5 none                         4.70           medium 18993          \n",
       "6 eye, skin problems           4.67           small  24330          \n",
       "  INTELLIGENCE.RANK INTELLIGENCE.. LONGEVITY.YEARS. NUMBER.OF.GENETIC.AILMENTS\n",
       "1 30                0.70           14.00            0                         \n",
       "2 35                0.61           13.84            2                         \n",
       "3 45                0.45           12.58            0                         \n",
       "4 31                0.69           12.49            1                         \n",
       "5 18                0.82           11.66            0                         \n",
       "6 20                0.79           12.50            2                         \n",
       "  GENETIC.AILMENTS             PURCHASE.PRICE FOOD.COSTS.PER.YEAR\n",
       "1 none                         833            324                \n",
       "2 'lion jaw', heart problems   435            324                \n",
       "3 none                         650            466                \n",
       "4 hip problems                 750            324                \n",
       "5 none                         800            324                \n",
       "6 eye, skin problems           465            674                \n",
       "  GROOMING.FREQUNCY   SUITABILITY.FOR.CHILDREN\n",
       "1 Once a week         1                       \n",
       "2 Once a week         1                       \n",
       "3 Once in a few weeks 1                       \n",
       "4 Once a week         1                       \n",
       "5 Once a week         1                       \n",
       "6 Once a week         1                       "
      ]
     },
     "metadata": {},
     "output_type": "display_data"
    }
   ],
   "source": [
    "head(dogData)"
   ]
  },
  {
   "cell_type": "markdown",
   "metadata": {},
   "source": [
    "## Correlation"
   ]
  },
  {
   "cell_type": "markdown",
   "metadata": {},
   "source": [
    "A számosítható adatokon korrelációs vizsgálatott végeztem, hogy könnyebb legyen megállapítanom, hogy mit érdemes vizsgálni."
   ]
  },
  {
   "cell_type": "code",
   "execution_count": 82,
   "metadata": {
    "id": "vwTRLSx-KUcJ",
    "vscode": {
     "languageId": "r"
    }
   },
   "outputs": [],
   "source": [
    "numeric_cols <- sapply(dogData, is.numeric)\n",
    "cor_matrix <- cor(dogData[, numeric_cols])"
   ]
  },
  {
   "cell_type": "code",
   "execution_count": 83,
   "metadata": {
    "colab": {
     "base_uri": "https://localhost:8080/",
     "height": 437
    },
    "id": "eGC-YdpIaylm",
    "outputId": "6c11f539-9387-434a-ea9d-1d4814f071ab",
    "vscode": {
     "languageId": "r"
    }
   },
   "outputs": [
    {
     "data": {
      "image/png": "[encoded data removed]",
      "text/plain": [
       "Plot with title \"\""
      ]
     },
     "metadata": {
      "image/png": {
       "height": 420,
       "width": 420
      }
     },
     "output_type": "display_data"
    }
   ],
   "source": [
    "corrplot(cor_matrix, method = \"circle\")"
   ]
  },
  {
   "cell_type": "markdown",
   "metadata": {},
   "source": [
    "### Vizsgálatot segítő eszköz"
   ]
  },
  {
   "cell_type": "markdown",
   "metadata": {},
   "source": [
    "Az alábbi kód létrehoz egy interaktív weboldalt, ahol ponthalmazokat meglehet jeleníteni és így gyorsan és könnyedén vizsgálni az adatokat, ami után eldönthető, hogy mit érdemes kirészleteni."
   ]
  },
  {
   "cell_type": "code",
   "execution_count": 84,
   "metadata": {},
   "outputs": [],
   "source": [
    "ui <- fluidPage(\n",
    "  titlePanel(\"Dog Data Explorer\"),\n",
    "  sidebarLayout(\n",
    "    sidebarPanel(\n",
    "      selectInput(\"xvar\", \"X-axis variable\", choices = names(dogData)),\n",
    "      selectInput(\"yvar\", \"Y-axis variable\", choices = names(dogData)),\n",
    "      selectInput(\"colorvar\", \"Color by variable\", choices = names(dogData))\n",
    "    ),\n",
    "    mainPanel(\n",
    "      plotOutput(\"scatterPlot\"),\n",
    "      plotOutput(\"corrPlot\")\n",
    "    )\n",
    "  )\n",
    ")\n",
    "\n",
    "server <- function(input, output) {\n",
    "  output$scatterPlot <- renderPlot({\n",
    "    ggplot(dogData, aes_string(x = input$xvar, y = input$yvar, color = input$colorvar)) +\n",
    "      geom_point() +\n",
    "      labs(title = paste(input$xvar, \"vs\", input$yvar),\n",
    "           x = input$xvar,\n",
    "           y = input$yvar)\n",
    "  })\n",
    "\n",
    "  output$corrPlot <- renderPlot({\n",
    "    corrplot(cor_matrix, method = \"circle\")\n",
    "  })\n",
    "}\n",
    "\n",
    "#shinyApp(ui = ui, server = server)"
   ]
  },
  {
   "cell_type": "markdown",
   "metadata": {},
   "source": [
    "## Kimutatások"
   ]
  },
  {
   "cell_type": "markdown",
   "metadata": {},
   "source": [
    "### Életkorral és árral kapcsolatos megfigyelés"
   ]
  },
  {
   "cell_type": "code",
   "execution_count": 85,
   "metadata": {
    "vscode": {
     "languageId": "r"
    }
   },
   "outputs": [],
   "source": [
    "longevityCost <- ggplot(dogData, aes(x = LONGEVITY.YEARS., y = X.LIFETIME.COST, color = FOOD.COSTS.PER.YEAR)) +\n",
    "  geom_point() +\n",
    "  geom_smooth(method = 'lm', formula=y ~ x, color = \"red\") +\n",
    "  labs(\n",
    "    title = \"Longevity vs Lifetime Cost\",\n",
    "    x = \"Longevity in Years\",\n",
    "    y = \"Lifetime Cost in Dollars\"\n",
    "  ) +\n",
    "  theme_minimal()"
   ]
  },
  {
   "cell_type": "code",
   "execution_count": 86,
   "metadata": {},
   "outputs": [],
   "source": [
    "sizeLongevity <- ggplot(dogData, aes(x = factor(size) , y =  LONGEVITY.YEARS.)) +\n",
    "  geom_point() +\n",
    "  geom_boxplot(fill = \"lightgreen\") +\n",
    "  labs(\n",
    "    title = \"Dog size vs Longevity\",\n",
    "    x = \"Dog size (1=small, 2=medium...)\",\n",
    "    y = \"Longevity\"\n",
    "  ) +\n",
    "  theme_minimal()"
   ]
  },
  {
   "cell_type": "code",
   "execution_count": 87,
   "metadata": {},
   "outputs": [],
   "source": [
    "longevityHistogram <- ggplot(dogData, aes(LONGEVITY.YEARS.)) +\n",
    "  geom_histogram(binwidth = 1, color = \"black\", fill = \"lightblue\") +\n",
    "  geom_vline(aes(xintercept=mean(LONGEVITY.YEARS.)), color=\"blue\", linetype=\"dashed\") +\n",
    "  labs(title = \"Dog Longevity Histogram\",\n",
    "       x = \"Age at Death\",\n",
    "       y = \"Frequency\") +\n",
    "  theme_minimal()"
   ]
  },
  {
   "cell_type": "code",
   "execution_count": 88,
   "metadata": {
    "scrolled": true
   },
   "outputs": [
    {
     "data": {
      "image/png": "[encoded data removed]",
      "text/plain": [
       "plot without title"
      ]
     },
     "metadata": {
      "image/png": {
       "height": 420,
       "width": 420
      }
     },
     "output_type": "display_data"
    }
   ],
   "source": [
    "grid.arrange(longevityCost, sizeLongevity, longevityHistogram, ncol = 1)"
   ]
  },
  {
   "cell_type": "markdown",
   "metadata": {},
   "source": [
    "Itt leolvasható az ábráról, hogy ténylegesen megfigyelhető egy korreláció az élethossz és a kutyára költendő pénz (kicsit egyértelmű is). De az igazán érdekes hogy ezt nem feltétlenül a rendszeres kiadások (étel) miatt történik. Feltételezem hogy nagyobb szerepe van itt az alkalmankénti Orvosi díjnak.\n",
    "<p>\n",
    "Továbbá az is leolvasható hogy a kisebb ebek tovább élnek, mint a nagyobbak és hogy az átlag életkor 10-12.5 között található."
   ]
  },
  {
   "cell_type": "code",
   "execution_count": 131,
   "metadata": {},
   "outputs": [],
   "source": [
    "typePrice <- ggplot(dogData, aes(x = PURCHASE.PRICE, fill = type)) +\n",
    "  geom_density(alpha = 0.5) +\n",
    "  geom_vline(aes(xintercept=mean(PURCHASE.PRICE)), color=\"blue\", linetype=\"dashed\") +\n",
    "  labs(title = \"Distribution of Purchase Price by Breed Type\",\n",
    "       x = \"Purchase Price ($)\",\n",
    "       y = \"Density\") +\n",
    "  theme_minimal()"
   ]
  },
  {
   "cell_type": "code",
   "execution_count": 132,
   "metadata": {},
   "outputs": [],
   "source": [
    "typeScore <- ggplot(dogData, aes(x = type , y =  score)) +\n",
    "  geom_boxplot(fill = \"lightblue\") +\n",
    "  geom_point(aes(size = PURCHASE.PRICE), color = 'red', alpha=0.5) +\n",
    "  scale_size_continuous(range = c(0.2,15))+\n",
    "  theme_minimal()"
   ]
  },
  {
   "cell_type": "code",
   "execution_count": 134,
   "metadata": {},
   "outputs": [
    {
     "data": {
      "image/png": "[encoded data removed]",
      "text/plain": [
       "plot without title"
      ]
     },
     "metadata": {
      "image/png": {
       "height": 420,
       "width": 420
      }
     },
     "output_type": "display_data"
    }
   ],
   "source": [
    "grid.arrange(typePrice, typeScore, ncol = 1)"
   ]
  },
  {
   "cell_type": "code",
   "execution_count": 99,
   "metadata": {},
   "outputs": [
    {
     "data": {
      "text/html": [
       "853.540229885057"
      ],
      "text/latex": [
       "853.540229885057"
      ],
      "text/markdown": [
       "853.540229885057"
      ],
      "text/plain": [
       "[1] 853.5402"
      ]
     },
     "metadata": {},
     "output_type": "display_data"
    }
   ],
   "source": [
    "mean(dogData$PURCHASE.PRICE)"
   ]
  },
  {
   "cell_type": "markdown",
   "metadata": {},
   "source": [
    "Továbbá megfigyelhető a kutyák áránál, hogy a többség 1000$ alatt van, és hogy a legdrágább kutyák a terrier és a non-sporting. \n",
    "<p>\n",
    "Az is megfigyelhető, hogy a kutya tipusa képes befolyásolni az értékelést, hisz hiába van nagy ár intervallum mégis a working kutyáknak a score-ja lennt van. Ez a nagy ár intervallum a terruernél is hasonló, csak ott egyszerűen nagyobb az score."
   ]
  },
  {
   "cell_type": "markdown",
   "metadata": {},
   "source": [
    "### A Score"
   ]
  },
  {
   "cell_type": "markdown",
   "metadata": {},
   "source": [
    "A dataset készítője nem adot valami sok infót, hogy ez valójában hogyan is lett számolva azon kívűl, hogy \"meghatározatlan minősítési rendszer\". Emiatt mi most megvizsgáljuk, hogy kiderüljön valójábaban mi is volt itt egy döntő faktor."
   ]
  },
  {
   "cell_type": "code",
   "execution_count": 142,
   "metadata": {},
   "outputs": [
    {
     "data": {
      "image/png": "[encoded data removed]",
      "text/plain": [
       "plot without title"
      ]
     },
     "metadata": {
      "image/png": {
       "height": 420,
       "width": 420
      }
     },
     "output_type": "display_data"
    }
   ],
   "source": [
    "sizeScore <- ggplot(dogData, aes(x = factor(size) , y =  score)) +\n",
    "  geom_point(position = \"jitter\") +\n",
    "  geom_boxplot(fill = \"bisque\") +\n",
    "  theme_minimal()\n",
    "gr <- ggplot(dogData, aes(x = factor(NUMBER.OF.GENETIC.AILMENTS) , y =  popularity.ranking)) +\n",
    "  geom_point() +\n",
    "  geom_boxplot(fill = \"bisque2\")+\n",
    "  theme_minimal()\n",
    "grid.arrange(sizeScore, gr, ncol = 1)"
   ]
  },
  {
   "cell_type": "markdown",
   "metadata": {},
   "source": [
    "Itt az látszódik, hogy a kiskutyákat jobban szeretik, bár ez lehet amiatt is hisz megállapítottuk, hogy a kis kutyák és az éléthossz között korreláció van, tehát lehetséges, hogy valójában csak az viszi föl. Továbbá erős romlás látható a popularity-ben, ha több mint 3 genetikai hibája van egy kutyának."
   ]
  },
  {
   "cell_type": "code",
   "execution_count": 90,
   "metadata": {},
   "outputs": [
    {
     "name": "stderr",
     "output_type": "stream",
     "text": [
      "Warning message:\n",
      "\"\u001b[1m\u001b[22mRemoved 1 row containing missing values or values outside the scale range (`geom_text()`).\"\n",
      "Warning message:\n",
      "\"\u001b[1m\u001b[22mRemoved 1 row containing missing values or values outside the scale range (`geom_text()`).\"\n"
     ]
    },
    {
     "data": {
      "image/png": "[encoded data removed]",
      "text/plain": [
       "plot without title"
      ]
     },
     "metadata": {
      "image/png": {
       "height": 420,
       "width": 420
      }
     },
     "output_type": "display_data"
    }
   ],
   "source": [
    "# Calculate correlations with the score\n",
    "numeric_columns <- sapply(dogData, is.numeric)\n",
    "correlations <- cor(dogData[, numeric_columns], use = \"complete.obs\")\n",
    "score_correlations <- correlations[, \"score\"]\n",
    "\n",
    "# Create a data frame for the correlations\n",
    "cor_df <- data.frame(\n",
    "  factor = names(score_correlations),\n",
    "  correlation = score_correlations\n",
    ")\n",
    "\n",
    "# Remove the 'score' itself from the data frame\n",
    "cor_df <- cor_df %>% filter(factor != \"score\")\n",
    "\n",
    "# Separate positive and negative correlations\n",
    "positive_cor_df <- cor_df %>% filter(correlation > 0)\n",
    "negative_cor_df <- cor_df %>% filter(correlation < 0)\n",
    "\n",
    "# Normalize the correlations to sum to 100%\n",
    "positive_cor_df <- positive_cor_df %>%\n",
    "  mutate(proportion = correlation / sum(correlation) * 100)\n",
    "\n",
    "negative_cor_df <- negative_cor_df %>%\n",
    "  mutate(proportion = abs(correlation) / sum(abs(correlation)) * 100)\n",
    "\n",
    "# Function to create a doughnut chart\n",
    "create_doughnut_chart <- function(data, title) {\n",
    "  ggplot(data, aes(x = 2, y = proportion, fill = factor)) +\n",
    "    geom_bar(stat = \"identity\", width = 1) +\n",
    "    coord_polar(theta = \"y\") +\n",
    "    geom_text(aes(label = round(proportion, 1)), position = position_stack(vjust = 0.5)) +\n",
    "    xlim(0.5, 2.5) +\n",
    "    theme_void() +\n",
    "    theme(legend.position = \"right\") +\n",
    "    labs(title = title, fill = \"Factors\") +\n",
    "    annotate(\"text\", x = 0, y = 0, label = \"\")\n",
    "}\n",
    "\n",
    "# Create the doughnut charts\n",
    "positive_doughnut <- create_doughnut_chart(positive_cor_df, \"Positive Influence of Factors on Score\")\n",
    "negative_doughnut <- create_doughnut_chart(negative_cor_df, \"Negative Influence of Factors on Score\")\n",
    "\n",
    "# Display the plots in a Jupyter notebook\n",
    "grid.arrange(positive_doughnut, negative_doughnut, ncol = 1)"
   ]
  },
  {
   "cell_type": "markdown",
   "metadata": {},
   "source": [
    "Itt utolsó ábránkban meg is kapjuk a (igaz egy felületes) válaszunkat arra, hogy milyen komponensek mennyire befolyásolják a score-t a különböző adatok."
   ]
  }
 ],
 "metadata": {
  "colab": {
   "provenance": []
  },
  "kernelspec": {
   "display_name": "R",
   "language": "R",
   "name": "ir"
  },
  "language_info": {
   "codemirror_mode": "r",
   "file_extension": ".r",
   "mimetype": "text/x-r-source",
   "name": "R",
   "pygments_lexer": "r",
   "version": "4.4.0"
  }
 },
 "nbformat": 4,
 "nbformat_minor": 4
}
